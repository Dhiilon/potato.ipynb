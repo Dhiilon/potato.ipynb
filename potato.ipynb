{
  "nbformat": 4,
  "nbformat_minor": 0,
  "metadata": {
    "colab": {
      "provenance": []
    },
    "kernelspec": {
      "name": "python3",
      "display_name": "Python 3"
    },
    "language_info": {
      "name": "python"
    }
  },
  "cells": [
    {
      "cell_type": "code",
      "source": [
        "from google.colab import drive\n",
        "drive.mount('/content/drive')"
      ],
      "metadata": {
        "colab": {
          "base_uri": "https://localhost:8080/"
        },
        "id": "_erTpbnTMlu5",
        "outputId": "28e4c733-6090-49e7-80e3-de2b48707292"
      },
      "execution_count": null,
      "outputs": [
        {
          "output_type": "stream",
          "name": "stdout",
          "text": [
            "Mounted at /content/drive\n"
          ]
        }
      ]
    },
    {
      "cell_type": "code",
      "source": [
        "import os\n",
        "import cv2\n",
        "import numpy as np\n",
        "from tensorflow import keras\n",
        "from sklearn.model_selection import train_test_split\n",
        "from sklearn.preprocessing import LabelEncoder\n",
        "from tensorflow.keras.utils import to_categorical\n",
        "from tensorflow.keras.models import Sequential\n",
        "from tensorflow.keras.layers import Flatten, Dense\n",
        "from tensorflow.keras.applications.resnet50 import ResNet50\n",
        "from sklearn.metrics import confusion_matrix, classification_report\n",
        "import matplotlib.pyplot as plt\n",
        "\n",
        "# Define the directory where your preprocessed images are stored\n",
        "base_dir = ('/content/drive/MyDrive/PTrained')"
      ],
      "metadata": {
        "id": "FkqqE9hjMnns"
      },
      "execution_count": null,
      "outputs": []
    },
    {
      "cell_type": "code",
      "source": [
        "# Define the image size\n",
        "image_size = (128, 128)\n",
        "import random\n",
        "import tensorflow as tf\n",
        "np.random.seed(42)\n",
        "tf.random.set_seed(42)\n",
        "random.seed(42)\n",
        "# Define the mapping between folder names and labels\n",
        "label_mapping = {\n",
        "    'Healthy':0,\n",
        "    'Very_early_blight':1,\n",
        "    'Early_blight':2,\n",
        "    'middle_blight':3,\n",
        "    'Late_blight':4,\n",
        "    'Very_late_blight':5,\n",
        "}\n",
        "\n",
        "# Create empty lists to store images and labels\n",
        "images = []\n",
        "labels = []\n",
        "\n",
        "# Define the number of images to use for each class\n",
        "num_images_per_class = 1460  # Set the desired number of images per class\n",
        "\n",
        "# Iterate over disease folders\n",
        "for folder, label in label_mapping.items():\n",
        "    # Construct the full path of the disease folder\n",
        "    folder_path = os.path.join(base_dir, folder)\n",
        "\n",
        "    # Get the list of image files within the disease folder\n",
        "    image_files = os.listdir(folder_path)\n",
        "\n",
        "    # Shuffle the image files\n",
        "    np.random.shuffle(image_files)\n",
        "\n",
        "    # Iterate over image files\n",
        "    for i, file_name in enumerate(image_files):\n",
        "        # Check if the desired number of images per class is reached\n",
        "        if i >= num_images_per_class:\n",
        "            break\n",
        "\n",
        "        # Construct the full file path\n",
        "        file_path = os.path.join(folder_path, file_name)\n",
        "\n",
        "        # Load the image\n",
        "        image = cv2.imread(file_path)\n",
        "\n",
        "        # Resize the image\n",
        "        resized_image = cv2.resize(image, image_size)\n",
        "\n",
        "        # Append the resized image to the list of images\n",
        "        images.append(resized_image)\n",
        "\n",
        "        # Append the label to the list of labels\n",
        "        labels.append(label)\n",
        "\n",
        "\n",
        "# Convert the images and labels to NumPy arrays\n",
        "images = np.array(images)\n",
        "labels = np.array(labels)\n",
        "\n",
        "# Encode labels into integer values\n",
        "label_encoder = LabelEncoder()\n",
        "labels = label_encoder.fit_transform(labels)\n",
        "\n",
        "# Perform one-hot encoding on the labels\n",
        "num_classes = len(label_mapping)\n",
        "labels = to_categorical(labels, num_classes)\n",
        "\n",
        "# Split the data into training and testing sets\n",
        "X_train, X_test, y_train, y_test = train_test_split(images, labels, test_size=0.2, random_state=42)\n",
        "\n",
        "# Create a ResNet50 model\n",
        "base_model = ResNet50(weights='imagenet', include_top=False, input_shape=(image_size[0], image_size[1], 3))\n",
        "\n",
        "# Freeze the base model layers\n",
        "for layer in base_model.layers:\n",
        "    layer.trainable = False\n",
        "\n",
        "# Create a new model on top\n",
        "model = Sequential()\n",
        "model.add(base_model)\n",
        "model.add(Flatten())\n",
        "model.add(Dense(64, activation='relu'))\n",
        "model.add(Dense(num_classes, activation='softmax'))\n",
        "\n",
        "# Compile the model\n",
        "model.compile(optimizer='adam', loss='categorical_crossentropy', metrics=['accuracy'])\n",
        "\n",
        "# Train the model\n",
        "history = model.fit(X_train, y_train, epochs=20, batch_size=32, validation_data=(X_test, y_test))\n",
        "\n",
        "# Save the entire model as a SavedModel\n",
        "model.save('model_saved')\n",
        "\n",
        "# Save the label encoder classes\n",
        "np.save('label_encoder_classes.npy', label_encoder.classes_)\n",
        "\n",
        "# Evaluate the model on the testing set\n",
        "loss, accuracy = model.evaluate(X_test, y_test)\n",
        "print(\"Test Loss:\", loss)\n",
        "print(\"Test Accuracy:\", accuracy)\n",
        "\n",
        "# Generate predictions on the testing set\n",
        "y_pred = model.predict(X_test)\n",
        "y_pred = np.argmax(y_pred, axis=1)\n",
        "y_test = np.argmax(y_test, axis=1)\n",
        "\n",
        "# Generate confusion matrix\n",
        "cm = confusion_matrix(y_test, y_pred)\n",
        "print(\"Confusion Matrix:\")\n",
        "print(cm)\n",
        "\n",
        "# Calculate precision, recall, and F1 score\n",
        "classification_rep = classification_report(y_test, y_pred, target_names=label_mapping.keys())\n",
        "print(\"Classification Report:\")\n",
        "print(classification_rep)\n",
        "\n",
        "# Plot accuracy metrics\n",
        "plt.plot(history.history['accuracy'])\n",
        "plt.plot(history.history['val_accuracy'])\n",
        "plt.title('Model Accuracy')\n",
        "plt.xlabel('Epoch')\n",
        "plt.ylabel('Accuracy')\n",
        "plt.legend(['Train', 'Test'], loc='upper left')\n",
        "plt.show()"
      ],
      "metadata": {
        "colab": {
          "base_uri": "https://localhost:8080/",
          "height": 1000
        },
        "id": "GZ_j5AB0Mvra",
        "outputId": "579c0ecc-1404-4dc7-c5a9-d76c522f36e1"
      },
      "execution_count": null,
      "outputs": [
        {
          "output_type": "stream",
          "name": "stdout",
          "text": [
            "Epoch 1/20\n",
            "17/17 [==============================] - 49s 3s/step - loss: 3.7928 - accuracy: 0.5704 - val_loss: 0.6957 - val_accuracy: 0.8382\n",
            "Epoch 2/20\n",
            "17/17 [==============================] - 44s 3s/step - loss: 0.3240 - accuracy: 0.8963 - val_loss: 0.5694 - val_accuracy: 0.8382\n",
            "Epoch 3/20\n",
            "17/17 [==============================] - 45s 3s/step - loss: 0.0918 - accuracy: 0.9685 - val_loss: 0.4614 - val_accuracy: 0.8750\n",
            "Epoch 4/20\n",
            "17/17 [==============================] - 44s 3s/step - loss: 0.0240 - accuracy: 0.9944 - val_loss: 0.4906 - val_accuracy: 0.8162\n",
            "Epoch 5/20\n",
            "17/17 [==============================] - 44s 3s/step - loss: 0.0067 - accuracy: 1.0000 - val_loss: 0.4205 - val_accuracy: 0.8676\n",
            "Epoch 6/20\n",
            "17/17 [==============================] - 42s 2s/step - loss: 0.0038 - accuracy: 1.0000 - val_loss: 0.3736 - val_accuracy: 0.8676\n",
            "Epoch 7/20\n",
            "17/17 [==============================] - 44s 3s/step - loss: 0.0026 - accuracy: 1.0000 - val_loss: 0.4644 - val_accuracy: 0.8456\n",
            "Epoch 8/20\n",
            "17/17 [==============================] - 44s 3s/step - loss: 0.0016 - accuracy: 1.0000 - val_loss: 0.5168 - val_accuracy: 0.8529\n",
            "Epoch 9/20\n",
            "17/17 [==============================] - 44s 3s/step - loss: 0.0013 - accuracy: 1.0000 - val_loss: 0.5042 - val_accuracy: 0.8603\n",
            "Epoch 10/20\n",
            "17/17 [==============================] - 44s 3s/step - loss: 9.9792e-04 - accuracy: 1.0000 - val_loss: 0.5102 - val_accuracy: 0.8529\n",
            "Epoch 11/20\n",
            "17/17 [==============================] - 44s 3s/step - loss: 8.7212e-04 - accuracy: 1.0000 - val_loss: 0.5119 - val_accuracy: 0.8529\n",
            "Epoch 12/20\n",
            "17/17 [==============================] - 44s 3s/step - loss: 7.6020e-04 - accuracy: 1.0000 - val_loss: 0.5103 - val_accuracy: 0.8456\n",
            "Epoch 13/20\n",
            "17/17 [==============================] - 44s 3s/step - loss: 6.8487e-04 - accuracy: 1.0000 - val_loss: 0.5135 - val_accuracy: 0.8529\n",
            "Epoch 14/20\n",
            "17/17 [==============================] - 41s 2s/step - loss: 6.1982e-04 - accuracy: 1.0000 - val_loss: 0.5156 - val_accuracy: 0.8529\n",
            "Epoch 15/20\n",
            "17/17 [==============================] - 45s 3s/step - loss: 5.7858e-04 - accuracy: 1.0000 - val_loss: 0.5212 - val_accuracy: 0.8529\n",
            "Epoch 16/20\n",
            "17/17 [==============================] - 45s 3s/step - loss: 5.3208e-04 - accuracy: 1.0000 - val_loss: 0.5211 - val_accuracy: 0.8529\n",
            "Epoch 17/20\n",
            "17/17 [==============================] - 44s 3s/step - loss: 4.9107e-04 - accuracy: 1.0000 - val_loss: 0.5222 - val_accuracy: 0.8529\n",
            "Epoch 18/20\n",
            "17/17 [==============================] - 41s 2s/step - loss: 4.5546e-04 - accuracy: 1.0000 - val_loss: 0.5264 - val_accuracy: 0.8529\n",
            "Epoch 19/20\n",
            "17/17 [==============================] - 43s 3s/step - loss: 4.2617e-04 - accuracy: 1.0000 - val_loss: 0.5303 - val_accuracy: 0.8529\n",
            "Epoch 20/20\n",
            "17/17 [==============================] - 44s 3s/step - loss: 4.0213e-04 - accuracy: 1.0000 - val_loss: 0.5352 - val_accuracy: 0.8529\n",
            "5/5 [==============================] - 9s 2s/step - loss: 0.5352 - accuracy: 0.8529\n",
            "Test Loss: 0.5352283120155334\n",
            "Test Accuracy: 0.8529411554336548\n",
            "5/5 [==============================] - 11s 2s/step\n",
            "Confusion Matrix:\n",
            "[[31  0  0  0  0  0]\n",
            " [ 0 20  6  0  0  0]\n",
            " [ 0  3 19  1  0  0]\n",
            " [ 0  1  3  9  1  1]\n",
            " [ 0  0  1  0 14  3]\n",
            " [ 0  0  0  0  0 23]]\n",
            "Classification Report:\n",
            "                   precision    recall  f1-score   support\n",
            "\n",
            "          Healthy       1.00      1.00      1.00        31\n",
            "Very_early_blight       0.83      0.77      0.80        26\n",
            "     Early_blight       0.66      0.83      0.73        23\n",
            "    middle_blight       0.90      0.60      0.72        15\n",
            "      Late_blight       0.93      0.78      0.85        18\n",
            " Very_late_blight       0.85      1.00      0.92        23\n",
            "\n",
            "         accuracy                           0.85       136\n",
            "        macro avg       0.86      0.83      0.84       136\n",
            "     weighted avg       0.86      0.85      0.85       136\n",
            "\n"
          ]
        },
        {
          "output_type": "display_data",
          "data": {
            "text/plain": [
              "<Figure size 640x480 with 1 Axes>"
            ],
            "image/png": "[encoded data removed]"
          },
          "metadata": {}
        }
      ]
    },
    {
      "cell_type": "code",
      "source": [
        "# Randomly select one image from each class for testing\n",
        "random_test_images = []\n",
        "random_test_labels = []\n",
        "for class_label in range(num_classes):\n",
        "    class_indices = np.where(y_test == class_label)[0]\n",
        "    random_index = np.random.choice(class_indices)\n",
        "    random_test_images.append(X_test[random_index])\n",
        "    # Get the corresponding class name from label_mapping\n",
        "    class_name = next(key for key, value in label_mapping.items() if value == class_label)\n",
        "    random_test_labels.append(class_name)\n",
        "\n",
        "# Convert random test data to NumPy arrays\n",
        "random_test_images = np.array(random_test_images)\n",
        "random_test_labels = np.array(random_test_labels)\n",
        "\n",
        "# Predict on the random test data\n",
        "random_test_predictions = model.predict(random_test_images)\n",
        "random_test_predictions = np.argmax(random_test_predictions, axis=1)\n",
        "\n",
        "\n",
        "# Map numerical predictions back to class names\n",
        "predicted_labels = [next(key for key, value in label_mapping.items() if value == pred) for pred in random_test_predictions]\n",
        "\n",
        "# Display random test predictions\n",
        "print(\"Random Test Predictions:\")\n",
        "for i, prediction in enumerate(predicted_labels):\n",
        "    print(f\"Predicted Label: {prediction}, True Label: {random_test_labels[i]}\")"
      ],
      "metadata": {
        "colab": {
          "base_uri": "https://localhost:8080/"
        },
        "id": "dG9xH3zNMyIx",
        "outputId": "e41a7cb7-3bcf-4249-fd82-f5645a59d167"
      },
      "execution_count": null,
      "outputs": [
        {
          "output_type": "stream",
          "name": "stdout",
          "text": [
            "1/1 [==============================] - 0s 337ms/step\n",
            "Random Test Predictions:\n",
            "Predicted Label: Healthy, True Label: Healthy\n",
            "Predicted Label: Very_early_blight, True Label: Very_early_blight\n",
            "Predicted Label: Early_blight, True Label: Early_blight\n",
            "Predicted Label: middle_blight, True Label: middle_blight\n",
            "Predicted Label: Late_blight, True Label: Late_blight\n",
            "Predicted Label: Very_late_blight, True Label: Very_late_blight\n"
          ]
        }
      ]
    },
    {
      "cell_type": "code",
      "source": [
        "# Function to detect blight disease in a random image\n",
        "def detect_random_image(image_path):\n",
        "    # Load the saved model\n",
        "    model = keras.models.load_model('model_saved')\n",
        "\n",
        "    # Load the label encoder classes\n",
        "    label_encoder_classes = np.load('label_encoder_classes.npy', allow_pickle=True)\n",
        "    label_encoder = LabelEncoder()\n",
        "    label_encoder.classes_ = label_encoder_classes\n",
        "\n",
        "    # Load and preprocess the image\n",
        "    image = cv2.imread(image_path)\n",
        "    resized_image = cv2.resize(image, image_size)\n",
        "    resized_image = np.expand_dims(resized_image, axis=0)\n",
        "\n",
        "    # Predict the class\n",
        "    prediction = model.predict(resized_image)\n",
        "    predicted_class = np.argmax(prediction, axis=1)\n",
        "    class_name = label_encoder.inverse_transform(predicted_class)[0]\n",
        "\n",
        "    # Map the class number back to the class name\n",
        "    class_name_mapping = {v: k for k, v in label_mapping.items()}\n",
        "    class_label = class_name_mapping[class_name]\n",
        "\n",
        "    print(f\"Predicted class for the image is: {class_label}\")\n",
        "\n",
        "# Test the function with a random image\n",
        "random_image_path = '/content/tomato_healthy_635.JPG' # Update this path to a random image\n",
        "detect_random_image(random_image_path)"
      ],
      "metadata": {
        "colab": {
          "base_uri": "https://localhost:8080/"
        },
        "id": "zN-VIhtKNBXa",
        "outputId": "c9525272-9fb4-4d49-9e26-b0793b35c385"
      },
      "execution_count": null,
      "outputs": [
        {
          "output_type": "stream",
          "name": "stdout",
          "text": [
            "1/1 [==============================] - 1s 1s/step\n",
            "Predicted class for the image is: Healthy\n"
          ]
        }
      ]
    }
  ]
}